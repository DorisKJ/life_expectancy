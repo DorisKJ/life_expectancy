{
 "cells": [
  {
   "cell_type": "markdown",
   "id": "427cd1e5",
   "metadata": {},
   "source": [
    "## Life expectancy and probabilty of survival"
   ]
  },
  {
   "cell_type": "markdown",
   "id": "16fbae7d",
   "metadata": {},
   "source": [
    "Life expectancy can be defined as the average of additional years a given person still has to live. It can be calculated by observing a group of people born in the same year, during a certain period. For such a group of people, referred to (in this case) as a cohort, the probability of survival is the proportion of individuals to be alive after a given time.\n",
    "\n",
    "The data used in this work contains the life expectancy and probability of survival calculated for a given cohort from 1991 to 2001. This data is made available on the Canadian government website. Each dataset is described by income, education, ancestry, gender and residence type.\n",
    "\n",
    "Data:\n",
    "<br>[Life expectancy](https://doi.org/10.25318/1310013401-eng)\n",
    "<br>[Survival probability](https://www150.statcan.gc.ca/t1/tbl1/en/tv.action?pid=1310013501)\n",
    "\n",
    "**Disclaimer**: This notebook is for analysis purposes only."
   ]
  },
  {
   "cell_type": "code",
   "execution_count": 1,
   "id": "39c9209a",
   "metadata": {},
   "outputs": [],
   "source": [
    "import numpy as np\n",
    "import pandas as pd\n",
    "import matplotlib.pyplot as plt"
   ]
  },
  {
   "cell_type": "markdown",
   "id": "d32f5a84",
   "metadata": {},
   "source": [
    "### Data exploration"
   ]
  },
  {
   "cell_type": "code",
   "execution_count": 2,
   "id": "e667aca1",
   "metadata": {},
   "outputs": [
    {
     "data": {
      "text/html": [
       "<div>\n",
       "<style scoped>\n",
       "    .dataframe tbody tr th:only-of-type {\n",
       "        vertical-align: middle;\n",
       "    }\n",
       "\n",
       "    .dataframe tbody tr th {\n",
       "        vertical-align: top;\n",
       "    }\n",
       "\n",
       "    .dataframe thead th {\n",
       "        text-align: right;\n",
       "    }\n",
       "</style>\n",
       "<table border=\"1\" class=\"dataframe\">\n",
       "  <thead>\n",
       "    <tr style=\"text-align: right;\">\n",
       "      <th></th>\n",
       "      <th>REF_DATE</th>\n",
       "      <th>GEO</th>\n",
       "      <th>DGUID</th>\n",
       "      <th>Population group</th>\n",
       "      <th>Age</th>\n",
       "      <th>Sex</th>\n",
       "      <th>Characteristics</th>\n",
       "      <th>UOM</th>\n",
       "      <th>UOM_ID</th>\n",
       "      <th>SCALAR_FACTOR</th>\n",
       "      <th>SCALAR_ID</th>\n",
       "      <th>VECTOR</th>\n",
       "      <th>COORDINATE</th>\n",
       "      <th>VALUE</th>\n",
       "      <th>STATUS</th>\n",
       "      <th>SYMBOL</th>\n",
       "      <th>TERMINATED</th>\n",
       "      <th>DECIMALS</th>\n",
       "    </tr>\n",
       "  </thead>\n",
       "  <tbody>\n",
       "    <tr>\n",
       "      <th>0</th>\n",
       "      <td>1991/2006</td>\n",
       "      <td>Canada</td>\n",
       "      <td>2016A000011124</td>\n",
       "      <td>Entire cohort</td>\n",
       "      <td>At 25 years</td>\n",
       "      <td>Both sexes</td>\n",
       "      <td>Life expectancy</td>\n",
       "      <td>Years</td>\n",
       "      <td>308</td>\n",
       "      <td>units</td>\n",
       "      <td>0</td>\n",
       "      <td>v54068144</td>\n",
       "      <td>1.1.1.1.1</td>\n",
       "      <td>55.2</td>\n",
       "      <td>NaN</td>\n",
       "      <td>NaN</td>\n",
       "      <td>NaN</td>\n",
       "      <td>1</td>\n",
       "    </tr>\n",
       "    <tr>\n",
       "      <th>1</th>\n",
       "      <td>1991/2006</td>\n",
       "      <td>Canada</td>\n",
       "      <td>2016A000011124</td>\n",
       "      <td>Entire cohort</td>\n",
       "      <td>At 25 years</td>\n",
       "      <td>Both sexes</td>\n",
       "      <td>Low 95% confidence interval, life expectancy</td>\n",
       "      <td>Years</td>\n",
       "      <td>308</td>\n",
       "      <td>units</td>\n",
       "      <td>0</td>\n",
       "      <td>v54068145</td>\n",
       "      <td>1.1.1.1.2</td>\n",
       "      <td>55.2</td>\n",
       "      <td>NaN</td>\n",
       "      <td>NaN</td>\n",
       "      <td>NaN</td>\n",
       "      <td>1</td>\n",
       "    </tr>\n",
       "    <tr>\n",
       "      <th>2</th>\n",
       "      <td>1991/2006</td>\n",
       "      <td>Canada</td>\n",
       "      <td>2016A000011124</td>\n",
       "      <td>Entire cohort</td>\n",
       "      <td>At 25 years</td>\n",
       "      <td>Both sexes</td>\n",
       "      <td>High 95% confidence interval, life expectancy</td>\n",
       "      <td>Years</td>\n",
       "      <td>308</td>\n",
       "      <td>units</td>\n",
       "      <td>0</td>\n",
       "      <td>v54068146</td>\n",
       "      <td>1.1.1.1.3</td>\n",
       "      <td>55.3</td>\n",
       "      <td>NaN</td>\n",
       "      <td>NaN</td>\n",
       "      <td>NaN</td>\n",
       "      <td>1</td>\n",
       "    </tr>\n",
       "    <tr>\n",
       "      <th>3</th>\n",
       "      <td>1991/2006</td>\n",
       "      <td>Canada</td>\n",
       "      <td>2016A000011124</td>\n",
       "      <td>Entire cohort</td>\n",
       "      <td>At 25 years</td>\n",
       "      <td>Males</td>\n",
       "      <td>Life expectancy</td>\n",
       "      <td>Years</td>\n",
       "      <td>308</td>\n",
       "      <td>units</td>\n",
       "      <td>0</td>\n",
       "      <td>v54068147</td>\n",
       "      <td>1.1.1.2.1</td>\n",
       "      <td>52.6</td>\n",
       "      <td>NaN</td>\n",
       "      <td>NaN</td>\n",
       "      <td>NaN</td>\n",
       "      <td>1</td>\n",
       "    </tr>\n",
       "    <tr>\n",
       "      <th>4</th>\n",
       "      <td>1991/2006</td>\n",
       "      <td>Canada</td>\n",
       "      <td>2016A000011124</td>\n",
       "      <td>Entire cohort</td>\n",
       "      <td>At 25 years</td>\n",
       "      <td>Males</td>\n",
       "      <td>Low 95% confidence interval, life expectancy</td>\n",
       "      <td>Years</td>\n",
       "      <td>308</td>\n",
       "      <td>units</td>\n",
       "      <td>0</td>\n",
       "      <td>v54068148</td>\n",
       "      <td>1.1.1.2.2</td>\n",
       "      <td>52.5</td>\n",
       "      <td>NaN</td>\n",
       "      <td>NaN</td>\n",
       "      <td>NaN</td>\n",
       "      <td>1</td>\n",
       "    </tr>\n",
       "  </tbody>\n",
       "</table>\n",
       "</div>"
      ],
      "text/plain": [
       "    REF_DATE     GEO           DGUID Population group          Age  \\\n",
       "0  1991/2006  Canada  2016A000011124    Entire cohort  At 25 years   \n",
       "1  1991/2006  Canada  2016A000011124    Entire cohort  At 25 years   \n",
       "2  1991/2006  Canada  2016A000011124    Entire cohort  At 25 years   \n",
       "3  1991/2006  Canada  2016A000011124    Entire cohort  At 25 years   \n",
       "4  1991/2006  Canada  2016A000011124    Entire cohort  At 25 years   \n",
       "\n",
       "          Sex                                Characteristics    UOM  UOM_ID  \\\n",
       "0  Both sexes                                Life expectancy  Years     308   \n",
       "1  Both sexes   Low 95% confidence interval, life expectancy  Years     308   \n",
       "2  Both sexes  High 95% confidence interval, life expectancy  Years     308   \n",
       "3       Males                                Life expectancy  Years     308   \n",
       "4       Males   Low 95% confidence interval, life expectancy  Years     308   \n",
       "\n",
       "  SCALAR_FACTOR  SCALAR_ID     VECTOR COORDINATE  VALUE  STATUS  SYMBOL  \\\n",
       "0        units           0  v54068144  1.1.1.1.1   55.2     NaN     NaN   \n",
       "1        units           0  v54068145  1.1.1.1.2   55.2     NaN     NaN   \n",
       "2        units           0  v54068146  1.1.1.1.3   55.3     NaN     NaN   \n",
       "3        units           0  v54068147  1.1.1.2.1   52.6     NaN     NaN   \n",
       "4        units           0  v54068148  1.1.1.2.2   52.5     NaN     NaN   \n",
       "\n",
       "   TERMINATED  DECIMALS  \n",
       "0         NaN         1  \n",
       "1         NaN         1  \n",
       "2         NaN         1  \n",
       "3         NaN         1  \n",
       "4         NaN         1  "
      ]
     },
     "execution_count": 2,
     "metadata": {},
     "output_type": "execute_result"
    }
   ],
   "source": [
    "# Let's explore\n",
    "pd.read_csv('Data/Life_expectancy.csv').head()\n",
    "#pd.read_csv('Data/Probability_survival.csv').head()"
   ]
  },
  {
   "cell_type": "markdown",
   "id": "b290b38d",
   "metadata": {},
   "source": [
    "Some features are not particularly needed for this analysis and can be dropped. Items in the \"*VALUES*\" column correspond to values of the probability of survival and life expectancy. \"*Low 95% confidence interval, life expectancy*\" and \"*High 95% confidence interval, life expectancy*\" represent the accuracy of the probability of survival (life expectancy). New columns for life expectancy and probability of survival can be created."
   ]
  },
  {
   "cell_type": "code",
   "execution_count": 3,
   "id": "26e5f1ef",
   "metadata": {},
   "outputs": [],
   "source": [
    "survival = pd.read_csv(\"Data/Probability_survival.csv\",\n",
    "    usecols=[\"Population group\", \"Age\", \"Sex\", \"Characteristics\", \"VALUE\"]\n",
    "    ).rename(columns={\"Population group\": \"Population_group\"})\n",
    "\n",
    "expectancy = pd.read_csv(\"Data/Life_expectancy.csv\",\n",
    "    usecols=[\"Population group\", \"Age\", \"Sex\", \"Characteristics\", \"VALUE\"]\n",
    "    ).rename(columns={\"Population group\": \"Population_group\"})\n",
    "\n",
    "#print(expectancy.head())"
   ]
  },
  {
   "cell_type": "code",
   "execution_count": 4,
   "id": "16b1551b",
   "metadata": {},
   "outputs": [
    {
     "data": {
      "text/plain": [
       "Population_group    False\n",
       "Age                 False\n",
       "Sex                 False\n",
       "Characteristics     False\n",
       "VALUE               False\n",
       "dtype: bool"
      ]
     },
     "execution_count": 4,
     "metadata": {},
     "output_type": "execute_result"
    }
   ],
   "source": [
    "# Check for missing values\n",
    "survival.isna().any()"
   ]
  },
  {
   "cell_type": "code",
   "execution_count": 5,
   "id": "c190ccd6",
   "metadata": {},
   "outputs": [
    {
     "data": {
      "text/html": [
       "<div>\n",
       "<style scoped>\n",
       "    .dataframe tbody tr th:only-of-type {\n",
       "        vertical-align: middle;\n",
       "    }\n",
       "\n",
       "    .dataframe tbody tr th {\n",
       "        vertical-align: top;\n",
       "    }\n",
       "\n",
       "    .dataframe thead th {\n",
       "        text-align: right;\n",
       "    }\n",
       "</style>\n",
       "<table border=\"1\" class=\"dataframe\">\n",
       "  <thead>\n",
       "    <tr style=\"text-align: right;\">\n",
       "      <th></th>\n",
       "      <th>Population_group</th>\n",
       "      <th>Sex</th>\n",
       "      <th>Characteristics</th>\n",
       "      <th>VALUE</th>\n",
       "    </tr>\n",
       "    <tr>\n",
       "      <th>Age</th>\n",
       "      <th></th>\n",
       "      <th></th>\n",
       "      <th></th>\n",
       "      <th></th>\n",
       "    </tr>\n",
       "  </thead>\n",
       "  <tbody>\n",
       "    <tr>\n",
       "      <th>25</th>\n",
       "      <td>Entire cohort</td>\n",
       "      <td>Both sexes</td>\n",
       "      <td>Probability of survival</td>\n",
       "      <td>100.0</td>\n",
       "    </tr>\n",
       "    <tr>\n",
       "      <th>25</th>\n",
       "      <td>Entire cohort</td>\n",
       "      <td>Both sexes</td>\n",
       "      <td>Low 95% confidence interval, life expectancy</td>\n",
       "      <td>100.0</td>\n",
       "    </tr>\n",
       "    <tr>\n",
       "      <th>25</th>\n",
       "      <td>Entire cohort</td>\n",
       "      <td>Both sexes</td>\n",
       "      <td>High 95% confidence interval, life expectancy</td>\n",
       "      <td>100.0</td>\n",
       "    </tr>\n",
       "    <tr>\n",
       "      <th>25</th>\n",
       "      <td>Entire cohort</td>\n",
       "      <td>Males</td>\n",
       "      <td>Probability of survival</td>\n",
       "      <td>100.0</td>\n",
       "    </tr>\n",
       "    <tr>\n",
       "      <th>25</th>\n",
       "      <td>Entire cohort</td>\n",
       "      <td>Males</td>\n",
       "      <td>Low 95% confidence interval, life expectancy</td>\n",
       "      <td>100.0</td>\n",
       "    </tr>\n",
       "  </tbody>\n",
       "</table>\n",
       "</div>"
      ],
      "text/plain": [
       "    Population_group         Sex  \\\n",
       "Age                                \n",
       "25     Entire cohort  Both sexes   \n",
       "25     Entire cohort  Both sexes   \n",
       "25     Entire cohort  Both sexes   \n",
       "25     Entire cohort       Males   \n",
       "25     Entire cohort       Males   \n",
       "\n",
       "                                   Characteristics  VALUE  \n",
       "Age                                                        \n",
       "25                         Probability of survival  100.0  \n",
       "25    Low 95% confidence interval, life expectancy  100.0  \n",
       "25   High 95% confidence interval, life expectancy  100.0  \n",
       "25                         Probability of survival  100.0  \n",
       "25    Low 95% confidence interval, life expectancy  100.0  "
      ]
     },
     "execution_count": 5,
     "metadata": {},
     "output_type": "execute_result"
    }
   ],
   "source": [
    "# Making changes in Age column\n",
    "survival['Age'] = survival['Age'].replace(r\"At | years\", '', regex=True)#.apply(pd.to_numeric)\n",
    "expectancy['Age'] = expectancy['Age'].replace(r\"At | years\", '', regex=True)\n",
    "\n",
    "# reset the index\n",
    "survival_age = survival.set_index(\"Age\")\n",
    "expectancy_age = expectancy.set_index(\"Age\")\n",
    "\n",
    "survival_age.head()"
   ]
  },
  {
   "cell_type": "markdown",
   "id": "48302730",
   "metadata": {},
   "source": [
    "The *Population_group* column contains information on the entire cohort, the income, education, residence and ancestry"
   ]
  },
  {
   "cell_type": "code",
   "execution_count": 6,
   "id": "697f8322",
   "metadata": {},
   "outputs": [
    {
     "data": {
      "text/plain": [
       "array(['Entire cohort', 'Income adequacy quintile 1 (lowest)',\n",
       "       'Income adequacy quintile 2', 'Income adequacy quintile 3',\n",
       "       'Income adequacy quintile 4',\n",
       "       'Income adequacy quintile 5 (highest)',\n",
       "       'Educational attainment - less than secondary graduation',\n",
       "       'Educational attainment - secondary graduation',\n",
       "       'Educational attainment - postsecondary diploma',\n",
       "       'Educational attainment - university degree',\n",
       "       'Resident of shelter or rooming house or hotel', 'Hotel',\n",
       "       'Rooming house', 'Shelter', 'First Nations', 'Registered Indian',\n",
       "       'Non-Status Indian', 'Métis ancestry', 'Non-Aboriginal'],\n",
       "      dtype=object)"
      ]
     },
     "execution_count": 6,
     "metadata": {},
     "output_type": "execute_result"
    }
   ],
   "source": [
    "#survival.Population_group.unique()\n",
    "expectancy.Population_group.unique()"
   ]
  },
  {
   "cell_type": "markdown",
   "id": "948757f6",
   "metadata": {},
   "source": [
    "### Probablity of survival at 60 years old based on gender and ancestry"
   ]
  },
  {
   "cell_type": "code",
   "execution_count": 7,
   "id": "3beaac19",
   "metadata": {},
   "outputs": [
    {
     "data": {
      "text/html": [
       "<div>\n",
       "<style scoped>\n",
       "    .dataframe tbody tr th:only-of-type {\n",
       "        vertical-align: middle;\n",
       "    }\n",
       "\n",
       "    .dataframe tbody tr th {\n",
       "        vertical-align: top;\n",
       "    }\n",
       "\n",
       "    .dataframe thead th {\n",
       "        text-align: right;\n",
       "    }\n",
       "</style>\n",
       "<table border=\"1\" class=\"dataframe\">\n",
       "  <thead>\n",
       "    <tr style=\"text-align: right;\">\n",
       "      <th></th>\n",
       "      <th>Population_group</th>\n",
       "      <th>Both sexes</th>\n",
       "      <th>Male</th>\n",
       "      <th>Female</th>\n",
       "    </tr>\n",
       "    <tr>\n",
       "      <th>Age</th>\n",
       "      <th></th>\n",
       "      <th></th>\n",
       "      <th></th>\n",
       "      <th></th>\n",
       "    </tr>\n",
       "  </thead>\n",
       "  <tbody>\n",
       "    <tr>\n",
       "      <th>25</th>\n",
       "      <td>First Nations</td>\n",
       "      <td>100.0</td>\n",
       "      <td>100.0</td>\n",
       "      <td>100.0</td>\n",
       "    </tr>\n",
       "    <tr>\n",
       "      <th>30</th>\n",
       "      <td>First Nations</td>\n",
       "      <td>99.0</td>\n",
       "      <td>98.6</td>\n",
       "      <td>99.4</td>\n",
       "    </tr>\n",
       "    <tr>\n",
       "      <th>35</th>\n",
       "      <td>First Nations</td>\n",
       "      <td>97.9</td>\n",
       "      <td>97.0</td>\n",
       "      <td>98.7</td>\n",
       "    </tr>\n",
       "    <tr>\n",
       "      <th>40</th>\n",
       "      <td>First Nations</td>\n",
       "      <td>96.6</td>\n",
       "      <td>95.5</td>\n",
       "      <td>97.6</td>\n",
       "    </tr>\n",
       "    <tr>\n",
       "      <th>45</th>\n",
       "      <td>First Nations</td>\n",
       "      <td>94.8</td>\n",
       "      <td>93.5</td>\n",
       "      <td>96.2</td>\n",
       "    </tr>\n",
       "  </tbody>\n",
       "</table>\n",
       "</div>"
      ],
      "text/plain": [
       "    Population_group  Both sexes   Male  Female\n",
       "Age                                            \n",
       "25     First Nations       100.0  100.0   100.0\n",
       "30     First Nations        99.0   98.6    99.4\n",
       "35     First Nations        97.9   97.0    98.7\n",
       "40     First Nations        96.6   95.5    97.6\n",
       "45     First Nations        94.8   93.5    96.2"
      ]
     },
     "execution_count": 7,
     "metadata": {},
     "output_type": "execute_result"
    }
   ],
   "source": [
    "grouped = survival_age.groupby(\"Population_group\")\n",
    "ancestry = ['First Nations', 'Registered Indian','Non-Status Indian', 'Métis ancestry', \n",
    "            'Non-Aboriginal']\n",
    "ancestry_group = pd.concat([grouped.get_group(item) for item in ancestry])\n",
    "survival_gender = ancestry_group.loc[ancestry_group.Characteristics==\"Probability of survival\"].drop(\n",
    "    columns=\"Characteristics\")\n",
    "\n",
    "survival_by_ancestry = survival_gender.loc[survival_gender.Sex==\"Both sexes\"].rename(\n",
    "    columns={\"VALUE\": \"Both sexes\"}).drop(columns=\"Sex\")\n",
    "survival_by_ancestry[\"Male\"] = survival_gender.loc[survival_gender.Sex==\"Males\"][\"VALUE\"]\n",
    "survival_by_ancestry[\"Female\"] = survival_gender.loc[survival_gender.Sex==\"Females\"][\"VALUE\"]\n",
    "\n",
    "survival_by_ancestry.head()\n"
   ]
  },
  {
   "cell_type": "code",
   "execution_count": 9,
   "id": "05b0a14d",
   "metadata": {},
   "outputs": [
    {
     "data": {
      "text/plain": [
       "Text(0.5, 1.0, 'Probabilty of survival base on ancestry')"
      ]
     },
     "execution_count": 9,
     "metadata": {},
     "output_type": "execute_result"
    },
    {
     "data": {
      "image/png": "[encoded data removed]",
      "text/plain": [
       "<Figure size 720x432 with 1 Axes>"
      ]
     },
     "metadata": {
      "needs_background": "light"
     },
     "output_type": "display_data"
    }
   ],
   "source": [
    "fig, ax = plt.subplots(figsize=(10, 6))\n",
    "style1 = ['skyblue', 'grey', 'cornflowerblue']\n",
    "survival_by_ancestry.loc['80'].plot.bar(x=\"Population_group\", y=[\"Both sexes\", \"Male\", \"Female\"], \n",
    "                                  color=style1, ax=ax)\n",
    "ax.set_ylabel(\"Probability of survival (%)\", fontweight='bold')\n",
    "ax.set_xlabel(\"Population group\", fontweight='bold')\n",
    "ax.set_title(\"Probabilty of survival base on ancestry\", fontweight='bold')\n",
    "#fig.savefig(\"Probability_survival_ancestry.png\")\n"
   ]
  },
  {
   "cell_type": "markdown",
   "id": "ead4a89d",
   "metadata": {},
   "source": [
    "Regardless of their origins, women have a haigher probability to survive at 80. "
   ]
  },
  {
   "cell_type": "markdown",
   "id": "c5eaff57",
   "metadata": {},
   "source": [
    "### Probability of survival based on education"
   ]
  },
  {
   "cell_type": "code",
   "execution_count": 16,
   "id": "d31ae621",
   "metadata": {},
   "outputs": [
    {
     "data": {
      "text/html": [
       "<div>\n",
       "<style scoped>\n",
       "    .dataframe tbody tr th:only-of-type {\n",
       "        vertical-align: middle;\n",
       "    }\n",
       "\n",
       "    .dataframe tbody tr th {\n",
       "        vertical-align: top;\n",
       "    }\n",
       "\n",
       "    .dataframe thead th {\n",
       "        text-align: right;\n",
       "    }\n",
       "</style>\n",
       "<table border=\"1\" class=\"dataframe\">\n",
       "  <thead>\n",
       "    <tr style=\"text-align: right;\">\n",
       "      <th></th>\n",
       "      <th>Sex</th>\n",
       "      <th>Non-graduate</th>\n",
       "      <th>Secondary graduation</th>\n",
       "      <th>postsecondary diploma</th>\n",
       "      <th>university degree</th>\n",
       "    </tr>\n",
       "    <tr>\n",
       "      <th>Age</th>\n",
       "      <th></th>\n",
       "      <th></th>\n",
       "      <th></th>\n",
       "      <th></th>\n",
       "      <th></th>\n",
       "    </tr>\n",
       "  </thead>\n",
       "  <tbody>\n",
       "    <tr>\n",
       "      <th>25</th>\n",
       "      <td>Both sexes</td>\n",
       "      <td>100.0</td>\n",
       "      <td>100.0</td>\n",
       "      <td>100.0</td>\n",
       "      <td>100.0</td>\n",
       "    </tr>\n",
       "    <tr>\n",
       "      <th>25</th>\n",
       "      <td>Males</td>\n",
       "      <td>100.0</td>\n",
       "      <td>100.0</td>\n",
       "      <td>100.0</td>\n",
       "      <td>100.0</td>\n",
       "    </tr>\n",
       "    <tr>\n",
       "      <th>25</th>\n",
       "      <td>Females</td>\n",
       "      <td>100.0</td>\n",
       "      <td>100.0</td>\n",
       "      <td>100.0</td>\n",
       "      <td>100.0</td>\n",
       "    </tr>\n",
       "    <tr>\n",
       "      <th>30</th>\n",
       "      <td>Both sexes</td>\n",
       "      <td>99.4</td>\n",
       "      <td>99.7</td>\n",
       "      <td>99.8</td>\n",
       "      <td>99.8</td>\n",
       "    </tr>\n",
       "    <tr>\n",
       "      <th>30</th>\n",
       "      <td>Males</td>\n",
       "      <td>99.2</td>\n",
       "      <td>99.5</td>\n",
       "      <td>99.7</td>\n",
       "      <td>99.7</td>\n",
       "    </tr>\n",
       "  </tbody>\n",
       "</table>\n",
       "</div>"
      ],
      "text/plain": [
       "            Sex  Non-graduate  Secondary graduation  postsecondary diploma  \\\n",
       "Age                                                                          \n",
       "25   Both sexes         100.0                 100.0                  100.0   \n",
       "25        Males         100.0                 100.0                  100.0   \n",
       "25      Females         100.0                 100.0                  100.0   \n",
       "30   Both sexes          99.4                  99.7                   99.8   \n",
       "30        Males          99.2                  99.5                   99.7   \n",
       "\n",
       "     university degree  \n",
       "Age                     \n",
       "25               100.0  \n",
       "25               100.0  \n",
       "25               100.0  \n",
       "30                99.8  \n",
       "30                99.7  "
      ]
     },
     "execution_count": 16,
     "metadata": {},
     "output_type": "execute_result"
    }
   ],
   "source": [
    "#education = survival['Population_group'].str.startswith('Educational')\n",
    "edu = list(filter(lambda x: x.startswith(\"Educational\"), survival_age.Population_group.unique()))\n",
    "\n",
    "data = [survival_age.loc[(survival_age.Population_group == t) & (survival_age.Characteristics == \n",
    "                     \"Probability of survival\")] for t in edu]\n",
    "\n",
    "probability_by_education = data[0].drop(\n",
    "    columns=[\"Population_group\", \"Characteristics\"]).rename(\n",
    "    columns={\"VALUE\": \"Non-graduate\"})\n",
    "\n",
    "probability_by_education[\"Secondary graduation\"] = data[1]['VALUE']\n",
    "probability_by_education[\"postsecondary diploma\"] = data[2]['VALUE']\n",
    "probability_by_education[\"university degree\"] = data[3]['VALUE']\n",
    "\n",
    "probability_by_education.head()\n"
   ]
  },
  {
   "cell_type": "code",
   "execution_count": 17,
   "id": "007c7f2f",
   "metadata": {},
   "outputs": [
    {
     "data": {
      "text/plain": [
       "Text(0.5, 1.0, '')"
      ]
     },
     "execution_count": 17,
     "metadata": {},
     "output_type": "execute_result"
    },
    {
     "data": {
      "image/png": "[encoded data removed]",
      "text/plain": [
       "<Figure size 720x432 with 1 Axes>"
      ]
     },
     "metadata": {
      "needs_background": "light"
     },
     "output_type": "display_data"
    }
   ],
   "source": [
    "fig, ax1 = plt.subplots(figsize=(10, 6))\n",
    "\n",
    "males = probability_by_education.loc[probability_by_education.Sex == \"Males\"]\n",
    "females = probability_by_education.loc[probability_by_education.Sex == \"Females\"]\n",
    "\n",
    "style2 = ['b-','r--','y-.', 'k']\n",
    "females.plot(style=style2, ax=ax1)\n",
    "\n",
    "ax1.set_ylabel(\"Probability of survival\")\n",
    "ax1.set_xlabel(\"Age(years)\")\n",
    "ax1.set_title(\"\")\n",
    "#fig.savefig(\"Probability_survival.png\")\n"
   ]
  },
  {
   "cell_type": "markdown",
   "id": "8f2efcbf",
   "metadata": {},
   "source": [
    "It can be observed that the probability of survival inscreasis with the level of education."
   ]
  },
  {
   "cell_type": "markdown",
   "id": "d54ea133",
   "metadata": {},
   "source": [
    "### Life expectancy of a 30 year old"
   ]
  },
  {
   "cell_type": "code",
   "execution_count": 18,
   "id": "4a158b87",
   "metadata": {},
   "outputs": [],
   "source": [
    "expectancy_ = expectancy_age.groupby('Characteristics').get_group('Life expectancy')\n",
    "#expectancy_.head()\n"
   ]
  },
  {
   "cell_type": "code",
   "execution_count": 19,
   "id": "8e4509bc",
   "metadata": {},
   "outputs": [],
   "source": [
    "status = ['Income adequacy quintile 1 (lowest)', \n",
    "          'Educational attainment - less than secondary graduation', \n",
    "          'Shelter', 'Non-Aboriginal']\n",
    "expectancy_grouped = expectancy_.groupby(\"Population_group\")\n",
    "expectancy_new = pd.concat([expectancy_grouped.get_group(stat) \n",
    "                    for stat in status]).drop(columns=\"Characteristics\")\n",
    "#expectancy_new.head()"
   ]
  },
  {
   "cell_type": "code",
   "execution_count": 20,
   "id": "ad76e910",
   "metadata": {},
   "outputs": [
    {
     "data": {
      "text/html": [
       "<div>\n",
       "<style scoped>\n",
       "    .dataframe tbody tr th:only-of-type {\n",
       "        vertical-align: middle;\n",
       "    }\n",
       "\n",
       "    .dataframe tbody tr th {\n",
       "        vertical-align: top;\n",
       "    }\n",
       "\n",
       "    .dataframe thead th {\n",
       "        text-align: right;\n",
       "    }\n",
       "</style>\n",
       "<table border=\"1\" class=\"dataframe\">\n",
       "  <thead>\n",
       "    <tr style=\"text-align: right;\">\n",
       "      <th></th>\n",
       "      <th>Population_group</th>\n",
       "      <th>Both sexes</th>\n",
       "      <th>Male</th>\n",
       "      <th>Female</th>\n",
       "    </tr>\n",
       "    <tr>\n",
       "      <th>Age</th>\n",
       "      <th></th>\n",
       "      <th></th>\n",
       "      <th></th>\n",
       "      <th></th>\n",
       "    </tr>\n",
       "  </thead>\n",
       "  <tbody>\n",
       "    <tr>\n",
       "      <th>25</th>\n",
       "      <td>Income adequacy quintile 1 (lowest)</td>\n",
       "      <td>51.6</td>\n",
       "      <td>48.2</td>\n",
       "      <td>55.0</td>\n",
       "    </tr>\n",
       "    <tr>\n",
       "      <th>30</th>\n",
       "      <td>Income adequacy quintile 1 (lowest)</td>\n",
       "      <td>46.9</td>\n",
       "      <td>43.6</td>\n",
       "      <td>50.2</td>\n",
       "    </tr>\n",
       "    <tr>\n",
       "      <th>35</th>\n",
       "      <td>Income adequacy quintile 1 (lowest)</td>\n",
       "      <td>42.2</td>\n",
       "      <td>39.0</td>\n",
       "      <td>45.4</td>\n",
       "    </tr>\n",
       "    <tr>\n",
       "      <th>40</th>\n",
       "      <td>Income adequacy quintile 1 (lowest)</td>\n",
       "      <td>37.5</td>\n",
       "      <td>34.4</td>\n",
       "      <td>40.6</td>\n",
       "    </tr>\n",
       "    <tr>\n",
       "      <th>45</th>\n",
       "      <td>Income adequacy quintile 1 (lowest)</td>\n",
       "      <td>33.0</td>\n",
       "      <td>29.9</td>\n",
       "      <td>36.0</td>\n",
       "    </tr>\n",
       "  </tbody>\n",
       "</table>\n",
       "</div>"
      ],
      "text/plain": [
       "                        Population_group  Both sexes  Male  Female\n",
       "Age                                                               \n",
       "25   Income adequacy quintile 1 (lowest)        51.6  48.2    55.0\n",
       "30   Income adequacy quintile 1 (lowest)        46.9  43.6    50.2\n",
       "35   Income adequacy quintile 1 (lowest)        42.2  39.0    45.4\n",
       "40   Income adequacy quintile 1 (lowest)        37.5  34.4    40.6\n",
       "45   Income adequacy quintile 1 (lowest)        33.0  29.9    36.0"
      ]
     },
     "execution_count": 20,
     "metadata": {},
     "output_type": "execute_result"
    }
   ],
   "source": [
    "life_expecteancy = expectancy_new.loc[expectancy_new.Sex==\"Both sexes\"].rename(\n",
    "    columns={\"VALUE\": \"Both sexes\"}).drop(columns=\"Sex\")\n",
    "life_expecteancy[\"Male\"] = expectancy_new.loc[expectancy_new.Sex==\n",
    "                                              \"Males\"][\"VALUE\"]\n",
    "life_expecteancy[\"Female\"] = expectancy_new.loc[expectancy_new.Sex==\n",
    "                                                \"Females\"][\"VALUE\"]\n",
    "life_expecteancy.head()\n"
   ]
  },
  {
   "cell_type": "code",
   "execution_count": 21,
   "id": "9e7854eb",
   "metadata": {},
   "outputs": [
    {
     "data": {
      "text/plain": [
       "[Text(0, 0, 'Low income'),\n",
       " Text(1, 0, 'Non-graduate'),\n",
       " Text(2, 0, 'Shelter'),\n",
       " Text(3, 0, 'Non-arboriginal')]"
      ]
     },
     "execution_count": 21,
     "metadata": {},
     "output_type": "execute_result"
    },
    {
     "data": {
      "image/png": "[encoded data removed]",
      "text/plain": [
       "<Figure size 720x432 with 1 Axes>"
      ]
     },
     "metadata": {
      "needs_background": "light"
     },
     "output_type": "display_data"
    }
   ],
   "source": [
    "fig2, ax2 = plt.subplots(figsize=(10, 6))\n",
    "life_expecteancy.loc['30'].plot.bar(x=\"Population_group\", y=[\"Both sexes\", \"Male\", \"Female\"], \n",
    "                                  color=style1, ax=ax2)\n",
    "ax2.set_ylabel(\"Life expectancy(years)\", fontweight='bold')\n",
    "ax2.set_xlabel(\"Population group\", fontweight='bold')\n",
    "ax2.set_title(\"Life expectancy\", fontweight='bold')\n",
    "sticks = ['Low income', 'Non-graduate', 'Shelter', 'Non-arboriginal']\n",
    "ax2.set_xticklabels(sticks)\n",
    "#fig.savefig(\"Life_expectancy.png\")"
   ]
  }
 ],
 "metadata": {
  "kernelspec": {
   "display_name": "Python 3 (ipykernel)",
   "language": "python",
   "name": "python3"
  },
  "language_info": {
   "codemirror_mode": {
    "name": "ipython",
    "version": 3
   },
   "file_extension": ".py",
   "mimetype": "text/x-python",
   "name": "python",
   "nbconvert_exporter": "python",
   "pygments_lexer": "ipython3",
   "version": "3.9.7"
  }
 },
 "nbformat": 4,
 "nbformat_minor": 5
}
